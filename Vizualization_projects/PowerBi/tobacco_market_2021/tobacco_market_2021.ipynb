{
 "cells": [
  {
   "cell_type": "markdown",
   "id": "d6380d42",
   "metadata": {},
   "source": [
    "## Общее описание:\n",
    "\n",
    "Необходимо визуализировать данные (в PowerBi) о портфеле брендов табачных и никотинсодержащих изделий на российском рынке, продаваемых в 2021 году, показав:\n",
    "- продажи табачных и никотинсодержащих изделий в разрезе типа продукции;\n",
    "- долю каждого из типа упаковки, в которых осуществляется оборот продукции;\n",
    "- объемы, в которых продаются жидкости для ЭСДН;\n",
    "- долю каждого из видов упаковки, в которых продаются жидкости.\n",
    "\n",
    "## Описание данных\n",
    "\n",
    "Предоставлены данные о портфеле брендов табачных и никотинсодержащих изделий на российском рынке за 2021 год. \n",
    "\n",
    "**Описание полей**:\n",
    "\n",
    "- `Наименование` — наименование бренда\n",
    "<br><br>\n",
    "- `GTIN` — глобальный номер товарной продукции в единой международной базе товаров GS1\n",
    "<br><br>\n",
    "- `Тип упаковки` — тип упаковки продукции\n",
    "\n",
    "\n",
    "\n",
    "### План\n",
    "\n",
    "1. Подготовка к работе. Импорт необходимых библиотек и загрузка данных о брендах\n",
    "<br><br>\n",
    "2. Создание столбца с типом продукции на основе столбца с названием бренда\n",
    "<br><br>\n",
    "3. На основе данных о брендах создать новые данные, содержащие информацию исключительно о жидкостях для ЭСДН. Создать столбец с информацией об объеме, в которых продаются жидкости на рынке, и столбец о типе упаковки, в которых продаются жидкости.\n",
    "<br><br>\n",
    "4. Сохранение данных и дальнейшая работа с ними в PowerBi\n",
    "\n",
    "<br><br>\n",
    "</b> "
   ]
  },
  {
   "cell_type": "markdown",
   "id": "fca83f83",
   "metadata": {},
   "source": [
    "<hr style='border: 1px solid'>"
   ]
  },
  {
   "cell_type": "markdown",
   "id": "40ab1e52",
   "metadata": {},
   "source": [
    "## 1. Импорт библиотек и загрузка данных "
   ]
  },
  {
   "cell_type": "code",
   "execution_count": 1,
   "id": "e91b5c25",
   "metadata": {},
   "outputs": [],
   "source": [
    "import pandas as pd"
   ]
  },
  {
   "cell_type": "code",
   "execution_count": 2,
   "id": "a9bdac80",
   "metadata": {},
   "outputs": [],
   "source": [
    "# Читаем данные\n",
    "\n",
    "df = pd.read_excel('./data/Справочник_Табак_2021.xlsx')"
   ]
  },
  {
   "cell_type": "code",
   "execution_count": 3,
   "id": "f15dd7b9",
   "metadata": {},
   "outputs": [
    {
     "data": {
      "text/html": [
       "<div>\n",
       "<style scoped>\n",
       "    .dataframe tbody tr th:only-of-type {\n",
       "        vertical-align: middle;\n",
       "    }\n",
       "\n",
       "    .dataframe tbody tr th {\n",
       "        vertical-align: top;\n",
       "    }\n",
       "\n",
       "    .dataframe thead th {\n",
       "        text-align: right;\n",
       "    }\n",
       "</style>\n",
       "<table border=\"1\" class=\"dataframe\">\n",
       "  <thead>\n",
       "    <tr style=\"text-align: right;\">\n",
       "      <th></th>\n",
       "      <th>Наименование</th>\n",
       "      <th>GTIN</th>\n",
       "      <th>Тип упаковки</th>\n",
       "      <th>Unnamed: 3</th>\n",
       "      <th>Unnamed: 4</th>\n",
       "      <th>Unnamed: 5</th>\n",
       "      <th>Unnamed: 6</th>\n",
       "    </tr>\n",
       "  </thead>\n",
       "  <tbody>\n",
       "    <tr>\n",
       "      <th>0</th>\n",
       "      <td>MARLBORO DOUBLE MIX</td>\n",
       "      <td>4870010009968</td>\n",
       "      <td>Групповая</td>\n",
       "      <td>NaN</td>\n",
       "      <td>NaN</td>\n",
       "      <td>NaN</td>\n",
       "      <td>NaN</td>\n",
       "    </tr>\n",
       "    <tr>\n",
       "      <th>1</th>\n",
       "      <td>KENT BLUE</td>\n",
       "      <td>4600266010599</td>\n",
       "      <td>Групповая</td>\n",
       "      <td>NaN</td>\n",
       "      <td>NaN</td>\n",
       "      <td>NaN</td>\n",
       "      <td>NaN</td>\n",
       "    </tr>\n",
       "    <tr>\n",
       "      <th>2</th>\n",
       "      <td>BOND STREET COMPACT BLUE</td>\n",
       "      <td>48743389</td>\n",
       "      <td>Потребительская</td>\n",
       "      <td>NaN</td>\n",
       "      <td>NaN</td>\n",
       "      <td>NaN</td>\n",
       "      <td>NaN</td>\n",
       "    </tr>\n",
       "    <tr>\n",
       "      <th>3</th>\n",
       "      <td>ESSE EXCHANGE M</td>\n",
       "      <td>4640030090532</td>\n",
       "      <td>Групповая</td>\n",
       "      <td>NaN</td>\n",
       "      <td>NaN</td>\n",
       "      <td>NaN</td>\n",
       "      <td>NaN</td>\n",
       "    </tr>\n",
       "    <tr>\n",
       "      <th>4</th>\n",
       "      <td>2 картриджа для электронных сигарет RELX, Gard...</td>\n",
       "      <td>6972890396768</td>\n",
       "      <td>Потребительская</td>\n",
       "      <td>NaN</td>\n",
       "      <td>NaN</td>\n",
       "      <td>NaN</td>\n",
       "      <td>NaN</td>\n",
       "    </tr>\n",
       "  </tbody>\n",
       "</table>\n",
       "</div>"
      ],
      "text/plain": [
       "                                        Наименование           GTIN  \\\n",
       "0                                MARLBORO DOUBLE MIX  4870010009968   \n",
       "1                                          KENT BLUE  4600266010599   \n",
       "2                           BOND STREET COMPACT BLUE       48743389   \n",
       "3                                    ESSE EXCHANGE M  4640030090532   \n",
       "4  2 картриджа для электронных сигарет RELX, Gard...  6972890396768   \n",
       "\n",
       "      Тип упаковки Unnamed: 3 Unnamed: 4  Unnamed: 5 Unnamed: 6  \n",
       "0        Групповая        NaN        NaN         NaN        NaN  \n",
       "1        Групповая        NaN        NaN         NaN        NaN  \n",
       "2  Потребительская        NaN        NaN         NaN        NaN  \n",
       "3        Групповая        NaN        NaN         NaN        NaN  \n",
       "4  Потребительская        NaN        NaN         NaN        NaN  "
      ]
     },
     "execution_count": 3,
     "metadata": {},
     "output_type": "execute_result"
    }
   ],
   "source": [
    "df.head()"
   ]
  },
  {
   "cell_type": "code",
   "execution_count": 4,
   "id": "60d8715f",
   "metadata": {},
   "outputs": [
    {
     "data": {
      "text/plain": [
       "(2160, 7)"
      ]
     },
     "execution_count": 4,
     "metadata": {},
     "output_type": "execute_result"
    }
   ],
   "source": [
    "# Смотрим размер данных\n",
    "\n",
    "df.shape"
   ]
  },
  {
   "cell_type": "code",
   "execution_count": 5,
   "id": "cdf4641f",
   "metadata": {},
   "outputs": [
    {
     "data": {
      "text/html": [
       "<div>\n",
       "<style scoped>\n",
       "    .dataframe tbody tr th:only-of-type {\n",
       "        vertical-align: middle;\n",
       "    }\n",
       "\n",
       "    .dataframe tbody tr th {\n",
       "        vertical-align: top;\n",
       "    }\n",
       "\n",
       "    .dataframe thead th {\n",
       "        text-align: right;\n",
       "    }\n",
       "</style>\n",
       "<table border=\"1\" class=\"dataframe\">\n",
       "  <thead>\n",
       "    <tr style=\"text-align: right;\">\n",
       "      <th></th>\n",
       "      <th>Наименование</th>\n",
       "      <th>GTIN</th>\n",
       "      <th>Тип упаковки</th>\n",
       "      <th>Unnamed: 3</th>\n",
       "      <th>Unnamed: 4</th>\n",
       "      <th>Unnamed: 5</th>\n",
       "      <th>Unnamed: 6</th>\n",
       "    </tr>\n",
       "  </thead>\n",
       "  <tbody>\n",
       "  </tbody>\n",
       "</table>\n",
       "</div>"
      ],
      "text/plain": [
       "Empty DataFrame\n",
       "Columns: [Наименование, GTIN, Тип упаковки, Unnamed: 3, Unnamed: 4, Unnamed: 5, Unnamed: 6]\n",
       "Index: []"
      ]
     },
     "execution_count": 5,
     "metadata": {},
     "output_type": "execute_result"
    }
   ],
   "source": [
    "# Проверяем данные на наличие строк-дубликатов\n",
    "\n",
    "df.loc[df.duplicated()]"
   ]
  },
  {
   "cell_type": "markdown",
   "id": "1eb959fc",
   "metadata": {},
   "source": [
    "<hr style='border: 1px solid'>"
   ]
  },
  {
   "cell_type": "markdown",
   "id": "ae8d3cbd",
   "metadata": {},
   "source": [
    "## 2. Преобразование и сохранение данных о брендах "
   ]
  },
  {
   "cell_type": "code",
   "execution_count": 6,
   "id": "f68d02c4",
   "metadata": {},
   "outputs": [],
   "source": [
    "# Для начала удаляем ненужные столбцы из данных, оставляя только наименование продукции и тип упаковки\n",
    "\n",
    "df = df.reindex(columns=['Наименование','Тип упаковки'])"
   ]
  },
  {
   "cell_type": "code",
   "execution_count": 7,
   "id": "dec2522b",
   "metadata": {},
   "outputs": [
    {
     "data": {
      "text/html": [
       "<div>\n",
       "<style scoped>\n",
       "    .dataframe tbody tr th:only-of-type {\n",
       "        vertical-align: middle;\n",
       "    }\n",
       "\n",
       "    .dataframe tbody tr th {\n",
       "        vertical-align: top;\n",
       "    }\n",
       "\n",
       "    .dataframe thead th {\n",
       "        text-align: right;\n",
       "    }\n",
       "</style>\n",
       "<table border=\"1\" class=\"dataframe\">\n",
       "  <thead>\n",
       "    <tr style=\"text-align: right;\">\n",
       "      <th></th>\n",
       "      <th>Наименование</th>\n",
       "      <th>Тип упаковки</th>\n",
       "    </tr>\n",
       "  </thead>\n",
       "  <tbody>\n",
       "    <tr>\n",
       "      <th>0</th>\n",
       "      <td>MARLBORO DOUBLE MIX</td>\n",
       "      <td>Групповая</td>\n",
       "    </tr>\n",
       "    <tr>\n",
       "      <th>1</th>\n",
       "      <td>KENT BLUE</td>\n",
       "      <td>Групповая</td>\n",
       "    </tr>\n",
       "    <tr>\n",
       "      <th>2</th>\n",
       "      <td>BOND STREET COMPACT BLUE</td>\n",
       "      <td>Потребительская</td>\n",
       "    </tr>\n",
       "    <tr>\n",
       "      <th>3</th>\n",
       "      <td>ESSE EXCHANGE M</td>\n",
       "      <td>Групповая</td>\n",
       "    </tr>\n",
       "    <tr>\n",
       "      <th>4</th>\n",
       "      <td>2 картриджа для электронных сигарет RELX, Gard...</td>\n",
       "      <td>Потребительская</td>\n",
       "    </tr>\n",
       "  </tbody>\n",
       "</table>\n",
       "</div>"
      ],
      "text/plain": [
       "                                        Наименование     Тип упаковки\n",
       "0                                MARLBORO DOUBLE MIX        Групповая\n",
       "1                                          KENT BLUE        Групповая\n",
       "2                           BOND STREET COMPACT BLUE  Потребительская\n",
       "3                                    ESSE EXCHANGE M        Групповая\n",
       "4  2 картриджа для электронных сигарет RELX, Gard...  Потребительская"
      ]
     },
     "execution_count": 7,
     "metadata": {},
     "output_type": "execute_result"
    }
   ],
   "source": [
    "df.head()"
   ]
  },
  {
   "cell_type": "code",
   "execution_count": 8,
   "id": "ded8302c",
   "metadata": {},
   "outputs": [],
   "source": [
    "# Переименовываем столбцы для удобства\n",
    "\n",
    "df.rename(columns={'Наименование':'brand_name','Тип упаковки':'package_type'},inplace=True)"
   ]
  },
  {
   "cell_type": "code",
   "execution_count": 9,
   "id": "ec376f18",
   "metadata": {},
   "outputs": [
    {
     "data": {
      "text/html": [
       "<div>\n",
       "<style scoped>\n",
       "    .dataframe tbody tr th:only-of-type {\n",
       "        vertical-align: middle;\n",
       "    }\n",
       "\n",
       "    .dataframe tbody tr th {\n",
       "        vertical-align: top;\n",
       "    }\n",
       "\n",
       "    .dataframe thead th {\n",
       "        text-align: right;\n",
       "    }\n",
       "</style>\n",
       "<table border=\"1\" class=\"dataframe\">\n",
       "  <thead>\n",
       "    <tr style=\"text-align: right;\">\n",
       "      <th></th>\n",
       "      <th>brand_name</th>\n",
       "      <th>package_type</th>\n",
       "    </tr>\n",
       "  </thead>\n",
       "  <tbody>\n",
       "    <tr>\n",
       "      <th>0</th>\n",
       "      <td>MARLBORO DOUBLE MIX</td>\n",
       "      <td>Групповая</td>\n",
       "    </tr>\n",
       "    <tr>\n",
       "      <th>1</th>\n",
       "      <td>KENT BLUE</td>\n",
       "      <td>Групповая</td>\n",
       "    </tr>\n",
       "    <tr>\n",
       "      <th>2</th>\n",
       "      <td>BOND STREET COMPACT BLUE</td>\n",
       "      <td>Потребительская</td>\n",
       "    </tr>\n",
       "    <tr>\n",
       "      <th>3</th>\n",
       "      <td>ESSE EXCHANGE M</td>\n",
       "      <td>Групповая</td>\n",
       "    </tr>\n",
       "    <tr>\n",
       "      <th>4</th>\n",
       "      <td>2 картриджа для электронных сигарет RELX, Gard...</td>\n",
       "      <td>Потребительская</td>\n",
       "    </tr>\n",
       "  </tbody>\n",
       "</table>\n",
       "</div>"
      ],
      "text/plain": [
       "                                          brand_name     package_type\n",
       "0                                MARLBORO DOUBLE MIX        Групповая\n",
       "1                                          KENT BLUE        Групповая\n",
       "2                           BOND STREET COMPACT BLUE  Потребительская\n",
       "3                                    ESSE EXCHANGE M        Групповая\n",
       "4  2 картриджа для электронных сигарет RELX, Gard...  Потребительская"
      ]
     },
     "execution_count": 9,
     "metadata": {},
     "output_type": "execute_result"
    }
   ],
   "source": [
    "df.head()"
   ]
  },
  {
   "cell_type": "code",
   "execution_count": 10,
   "id": "170950b7",
   "metadata": {},
   "outputs": [
    {
     "data": {
      "text/html": [
       "<div>\n",
       "<style scoped>\n",
       "    .dataframe tbody tr th:only-of-type {\n",
       "        vertical-align: middle;\n",
       "    }\n",
       "\n",
       "    .dataframe tbody tr th {\n",
       "        vertical-align: top;\n",
       "    }\n",
       "\n",
       "    .dataframe thead th {\n",
       "        text-align: right;\n",
       "    }\n",
       "</style>\n",
       "<table border=\"1\" class=\"dataframe\">\n",
       "  <thead>\n",
       "    <tr style=\"text-align: right;\">\n",
       "      <th></th>\n",
       "      <th>brand_name</th>\n",
       "      <th>package_type</th>\n",
       "    </tr>\n",
       "  </thead>\n",
       "  <tbody>\n",
       "    <tr>\n",
       "      <th>291</th>\n",
       "      <td>Davidoff Reach Purple</td>\n",
       "      <td>2402209000</td>\n",
       "    </tr>\n",
       "  </tbody>\n",
       "</table>\n",
       "</div>"
      ],
      "text/plain": [
       "                brand_name package_type\n",
       "291  Davidoff Reach Purple   2402209000"
      ]
     },
     "execution_count": 10,
     "metadata": {},
     "output_type": "execute_result"
    }
   ],
   "source": [
    "df.loc[df['package_type'] == 2402209000]"
   ]
  },
  {
   "cell_type": "code",
   "execution_count": 11,
   "id": "5fc81868",
   "metadata": {},
   "outputs": [],
   "source": [
    "df.drop(df[df['package_type'] == 2402209000].index, inplace=True)"
   ]
  },
  {
   "cell_type": "code",
   "execution_count": 12,
   "id": "9c087ed7",
   "metadata": {},
   "outputs": [
    {
     "data": {
      "text/html": [
       "<div>\n",
       "<style scoped>\n",
       "    .dataframe tbody tr th:only-of-type {\n",
       "        vertical-align: middle;\n",
       "    }\n",
       "\n",
       "    .dataframe tbody tr th {\n",
       "        vertical-align: top;\n",
       "    }\n",
       "\n",
       "    .dataframe thead th {\n",
       "        text-align: right;\n",
       "    }\n",
       "</style>\n",
       "<table border=\"1\" class=\"dataframe\">\n",
       "  <thead>\n",
       "    <tr style=\"text-align: right;\">\n",
       "      <th></th>\n",
       "      <th>brand_name</th>\n",
       "      <th>package_type</th>\n",
       "    </tr>\n",
       "  </thead>\n",
       "  <tbody>\n",
       "    <tr>\n",
       "      <th>0</th>\n",
       "      <td>MARLBORO DOUBLE MIX</td>\n",
       "      <td>Групповая</td>\n",
       "    </tr>\n",
       "    <tr>\n",
       "      <th>1</th>\n",
       "      <td>KENT BLUE</td>\n",
       "      <td>Групповая</td>\n",
       "    </tr>\n",
       "    <tr>\n",
       "      <th>2</th>\n",
       "      <td>BOND STREET COMPACT BLUE</td>\n",
       "      <td>Потребительская</td>\n",
       "    </tr>\n",
       "    <tr>\n",
       "      <th>3</th>\n",
       "      <td>ESSE EXCHANGE M</td>\n",
       "      <td>Групповая</td>\n",
       "    </tr>\n",
       "    <tr>\n",
       "      <th>4</th>\n",
       "      <td>2 картриджа для электронных сигарет RELX, Gard...</td>\n",
       "      <td>Потребительская</td>\n",
       "    </tr>\n",
       "    <tr>\n",
       "      <th>...</th>\n",
       "      <td>...</td>\n",
       "      <td>...</td>\n",
       "    </tr>\n",
       "    <tr>\n",
       "      <th>2155</th>\n",
       "      <td>Жидкость для электронных сигарет Nasty Salt CU...</td>\n",
       "      <td>Потребительская</td>\n",
       "    </tr>\n",
       "    <tr>\n",
       "      <th>2156</th>\n",
       "      <td>Жидкость для электронных сигарет Nasty Salt Hi...</td>\n",
       "      <td>Потребительская</td>\n",
       "    </tr>\n",
       "    <tr>\n",
       "      <th>2157</th>\n",
       "      <td>Жидкость для электронных сигарет Nasty Salt CU...</td>\n",
       "      <td>Потребительская</td>\n",
       "    </tr>\n",
       "    <tr>\n",
       "      <th>2158</th>\n",
       "      <td>Сигареты Davidoff Evolve Purple SSL с капсулой...</td>\n",
       "      <td>Потребительская</td>\n",
       "    </tr>\n",
       "    <tr>\n",
       "      <th>2159</th>\n",
       "      <td>Сигареты Davidoff Evolve Silver SSL</td>\n",
       "      <td>Потребительская</td>\n",
       "    </tr>\n",
       "  </tbody>\n",
       "</table>\n",
       "<p>2159 rows × 2 columns</p>\n",
       "</div>"
      ],
      "text/plain": [
       "                                             brand_name     package_type\n",
       "0                                   MARLBORO DOUBLE MIX        Групповая\n",
       "1                                             KENT BLUE        Групповая\n",
       "2                              BOND STREET COMPACT BLUE  Потребительская\n",
       "3                                       ESSE EXCHANGE M        Групповая\n",
       "4     2 картриджа для электронных сигарет RELX, Gard...  Потребительская\n",
       "...                                                 ...              ...\n",
       "2155  Жидкость для электронных сигарет Nasty Salt CU...  Потребительская\n",
       "2156  Жидкость для электронных сигарет Nasty Salt Hi...  Потребительская\n",
       "2157  Жидкость для электронных сигарет Nasty Salt CU...  Потребительская\n",
       "2158  Сигареты Davidoff Evolve Purple SSL с капсулой...  Потребительская\n",
       "2159                Сигареты Davidoff Evolve Silver SSL  Потребительская\n",
       "\n",
       "[2159 rows x 2 columns]"
      ]
     },
     "execution_count": 12,
     "metadata": {},
     "output_type": "execute_result"
    }
   ],
   "source": [
    "df"
   ]
  },
  {
   "cell_type": "code",
   "execution_count": 13,
   "id": "0194323f",
   "metadata": {},
   "outputs": [],
   "source": [
    "# На основе столбца \"Наименование\" необходимо создать столбец с типом продукции.\n",
    "# Известно, что продукция типа \"сигареты\" в столбце \"brand_name\" как может содержать слово \"сигареты\", так и \n",
    "# содержать просто наименование бренда на английском.\n",
    "# Будем также относить \"картриджи\" и жидкости к одному типу продукции - жидкоси для ЭСДН.\n",
    "\n",
    "# Пишем функцию \n",
    "\n",
    "def creating_product_type(value):\n",
    "    if 'сигареты' in value or 'Сигареты' in value:\n",
    "        return 'Сигареты'\n",
    "    elif 'сигарилл' in value or 'Сигарилл' in value:\n",
    "        return 'Сигариллы'\n",
    "    elif 'Сигары' in value or 'сигары' in value:\n",
    "        return 'Сигары'\n",
    "    elif 'картридж' in value or 'жидкост' in value or 'Жидкост' in value:\n",
    "        return 'Жидкости для ЭСДН'\n",
    "    elif 'кальяна' in value:\n",
    "        return 'Табак для кальяна'\n",
    "    elif 'бестабачная' in value or 'Бестабачная' in value:\n",
    "        return 'Бестабачные смеси для кальяна'\n",
    "    elif 'нагрев' in value or 'Нагрев' in value:\n",
    "        return 'Нагреваемый табак'\n",
    "    else:\n",
    "        return 'Сигареты'"
   ]
  },
  {
   "cell_type": "code",
   "execution_count": 14,
   "id": "3193e93e",
   "metadata": {},
   "outputs": [],
   "source": [
    "df['product_type'] = df['brand_name'].apply(creating_product_type)"
   ]
  },
  {
   "cell_type": "code",
   "execution_count": 15,
   "id": "16c55957",
   "metadata": {},
   "outputs": [
    {
     "data": {
      "text/html": [
       "<div>\n",
       "<style scoped>\n",
       "    .dataframe tbody tr th:only-of-type {\n",
       "        vertical-align: middle;\n",
       "    }\n",
       "\n",
       "    .dataframe tbody tr th {\n",
       "        vertical-align: top;\n",
       "    }\n",
       "\n",
       "    .dataframe thead th {\n",
       "        text-align: right;\n",
       "    }\n",
       "</style>\n",
       "<table border=\"1\" class=\"dataframe\">\n",
       "  <thead>\n",
       "    <tr style=\"text-align: right;\">\n",
       "      <th></th>\n",
       "      <th>brand_name</th>\n",
       "      <th>package_type</th>\n",
       "      <th>product_type</th>\n",
       "    </tr>\n",
       "  </thead>\n",
       "  <tbody>\n",
       "    <tr>\n",
       "      <th>0</th>\n",
       "      <td>MARLBORO DOUBLE MIX</td>\n",
       "      <td>Групповая</td>\n",
       "      <td>Сигареты</td>\n",
       "    </tr>\n",
       "    <tr>\n",
       "      <th>1</th>\n",
       "      <td>KENT BLUE</td>\n",
       "      <td>Групповая</td>\n",
       "      <td>Сигареты</td>\n",
       "    </tr>\n",
       "    <tr>\n",
       "      <th>2</th>\n",
       "      <td>BOND STREET COMPACT BLUE</td>\n",
       "      <td>Потребительская</td>\n",
       "      <td>Сигареты</td>\n",
       "    </tr>\n",
       "    <tr>\n",
       "      <th>3</th>\n",
       "      <td>ESSE EXCHANGE M</td>\n",
       "      <td>Групповая</td>\n",
       "      <td>Сигареты</td>\n",
       "    </tr>\n",
       "    <tr>\n",
       "      <th>4</th>\n",
       "      <td>2 картриджа для электронных сигарет RELX, Gard...</td>\n",
       "      <td>Потребительская</td>\n",
       "      <td>Жидкости для ЭСДН</td>\n",
       "    </tr>\n",
       "    <tr>\n",
       "      <th>...</th>\n",
       "      <td>...</td>\n",
       "      <td>...</td>\n",
       "      <td>...</td>\n",
       "    </tr>\n",
       "    <tr>\n",
       "      <th>2155</th>\n",
       "      <td>Жидкость для электронных сигарет Nasty Salt CU...</td>\n",
       "      <td>Потребительская</td>\n",
       "      <td>Жидкости для ЭСДН</td>\n",
       "    </tr>\n",
       "    <tr>\n",
       "      <th>2156</th>\n",
       "      <td>Жидкость для электронных сигарет Nasty Salt Hi...</td>\n",
       "      <td>Потребительская</td>\n",
       "      <td>Жидкости для ЭСДН</td>\n",
       "    </tr>\n",
       "    <tr>\n",
       "      <th>2157</th>\n",
       "      <td>Жидкость для электронных сигарет Nasty Salt CU...</td>\n",
       "      <td>Потребительская</td>\n",
       "      <td>Жидкости для ЭСДН</td>\n",
       "    </tr>\n",
       "    <tr>\n",
       "      <th>2158</th>\n",
       "      <td>Сигареты Davidoff Evolve Purple SSL с капсулой...</td>\n",
       "      <td>Потребительская</td>\n",
       "      <td>Сигареты</td>\n",
       "    </tr>\n",
       "    <tr>\n",
       "      <th>2159</th>\n",
       "      <td>Сигареты Davidoff Evolve Silver SSL</td>\n",
       "      <td>Потребительская</td>\n",
       "      <td>Сигареты</td>\n",
       "    </tr>\n",
       "  </tbody>\n",
       "</table>\n",
       "<p>2159 rows × 3 columns</p>\n",
       "</div>"
      ],
      "text/plain": [
       "                                             brand_name     package_type  \\\n",
       "0                                   MARLBORO DOUBLE MIX        Групповая   \n",
       "1                                             KENT BLUE        Групповая   \n",
       "2                              BOND STREET COMPACT BLUE  Потребительская   \n",
       "3                                       ESSE EXCHANGE M        Групповая   \n",
       "4     2 картриджа для электронных сигарет RELX, Gard...  Потребительская   \n",
       "...                                                 ...              ...   \n",
       "2155  Жидкость для электронных сигарет Nasty Salt CU...  Потребительская   \n",
       "2156  Жидкость для электронных сигарет Nasty Salt Hi...  Потребительская   \n",
       "2157  Жидкость для электронных сигарет Nasty Salt CU...  Потребительская   \n",
       "2158  Сигареты Davidoff Evolve Purple SSL с капсулой...  Потребительская   \n",
       "2159                Сигареты Davidoff Evolve Silver SSL  Потребительская   \n",
       "\n",
       "           product_type  \n",
       "0              Сигареты  \n",
       "1              Сигареты  \n",
       "2              Сигареты  \n",
       "3              Сигареты  \n",
       "4     Жидкости для ЭСДН  \n",
       "...                 ...  \n",
       "2155  Жидкости для ЭСДН  \n",
       "2156  Жидкости для ЭСДН  \n",
       "2157  Жидкости для ЭСДН  \n",
       "2158           Сигареты  \n",
       "2159           Сигареты  \n",
       "\n",
       "[2159 rows x 3 columns]"
      ]
     },
     "execution_count": 15,
     "metadata": {},
     "output_type": "execute_result"
    }
   ],
   "source": [
    "df"
   ]
  },
  {
   "cell_type": "code",
   "execution_count": 16,
   "id": "f8334bd0",
   "metadata": {},
   "outputs": [],
   "source": [
    "# Сохраняем данные о брендах в разрезе типов продукции\n",
    "\n",
    "df.to_excel('tobacco_mark_2021.xlsx')"
   ]
  },
  {
   "cell_type": "markdown",
   "id": "1e69f2c9",
   "metadata": {},
   "source": [
    "<hr style='border: 1px solid'>"
   ]
  },
  {
   "cell_type": "markdown",
   "id": "433357c8",
   "metadata": {},
   "source": [
    "## 3. Создаем новые данные, содержащие информацию о жидкостях для ЭСДН"
   ]
  },
  {
   "cell_type": "markdown",
   "id": "27f481e3",
   "metadata": {},
   "source": [
    "### 3.1. Создаем столбец с данными об объемах продаваемой жидкости"
   ]
  },
  {
   "cell_type": "code",
   "execution_count": 17,
   "id": "30514acc",
   "metadata": {},
   "outputs": [],
   "source": [
    "# Фильтруем данные о брендах и оставляем только данные с брендами жидкостей для ЭСДН\n",
    "\n",
    "liquids = df.query('product_type == \"Жидкости для ЭСДН\"').copy()"
   ]
  },
  {
   "cell_type": "code",
   "execution_count": 18,
   "id": "e5e6b6ca",
   "metadata": {},
   "outputs": [
    {
     "data": {
      "text/html": [
       "<div>\n",
       "<style scoped>\n",
       "    .dataframe tbody tr th:only-of-type {\n",
       "        vertical-align: middle;\n",
       "    }\n",
       "\n",
       "    .dataframe tbody tr th {\n",
       "        vertical-align: top;\n",
       "    }\n",
       "\n",
       "    .dataframe thead th {\n",
       "        text-align: right;\n",
       "    }\n",
       "</style>\n",
       "<table border=\"1\" class=\"dataframe\">\n",
       "  <thead>\n",
       "    <tr style=\"text-align: right;\">\n",
       "      <th></th>\n",
       "      <th>brand_name</th>\n",
       "      <th>package_type</th>\n",
       "      <th>product_type</th>\n",
       "    </tr>\n",
       "  </thead>\n",
       "  <tbody>\n",
       "    <tr>\n",
       "      <th>4</th>\n",
       "      <td>2 картриджа для электронных сигарет RELX, Gard...</td>\n",
       "      <td>Потребительская</td>\n",
       "      <td>Жидкости для ЭСДН</td>\n",
       "    </tr>\n",
       "    <tr>\n",
       "      <th>23</th>\n",
       "      <td>Жидкость для электронных сигарет HUNGRY Grape ...</td>\n",
       "      <td>Потребительская</td>\n",
       "      <td>Жидкости для ЭСДН</td>\n",
       "    </tr>\n",
       "    <tr>\n",
       "      <th>52</th>\n",
       "      <td>2 картриджа для электронных сигарет RELX, Gold...</td>\n",
       "      <td>Потребительская</td>\n",
       "      <td>Жидкости для ЭСДН</td>\n",
       "    </tr>\n",
       "    <tr>\n",
       "      <th>91</th>\n",
       "      <td>Жидкость для электронных сигарет HUNGRY Tropic...</td>\n",
       "      <td>Потребительская</td>\n",
       "      <td>Жидкости для ЭСДН</td>\n",
       "    </tr>\n",
       "    <tr>\n",
       "      <th>108</th>\n",
       "      <td>Жидкость для электронных сигарет The Scandalis...</td>\n",
       "      <td>Потребительская</td>\n",
       "      <td>Жидкости для ЭСДН</td>\n",
       "    </tr>\n",
       "    <tr>\n",
       "      <th>...</th>\n",
       "      <td>...</td>\n",
       "      <td>...</td>\n",
       "      <td>...</td>\n",
       "    </tr>\n",
       "    <tr>\n",
       "      <th>2153</th>\n",
       "      <td>Жидкость для электронных сигарет Jam Monster L...</td>\n",
       "      <td>Потребительская</td>\n",
       "      <td>Жидкости для ЭСДН</td>\n",
       "    </tr>\n",
       "    <tr>\n",
       "      <th>2154</th>\n",
       "      <td>Жидкость для электронных сигарет Custard Monst...</td>\n",
       "      <td>Потребительская</td>\n",
       "      <td>Жидкости для ЭСДН</td>\n",
       "    </tr>\n",
       "    <tr>\n",
       "      <th>2155</th>\n",
       "      <td>Жидкость для электронных сигарет Nasty Salt CU...</td>\n",
       "      <td>Потребительская</td>\n",
       "      <td>Жидкости для ЭСДН</td>\n",
       "    </tr>\n",
       "    <tr>\n",
       "      <th>2156</th>\n",
       "      <td>Жидкость для электронных сигарет Nasty Salt Hi...</td>\n",
       "      <td>Потребительская</td>\n",
       "      <td>Жидкости для ЭСДН</td>\n",
       "    </tr>\n",
       "    <tr>\n",
       "      <th>2157</th>\n",
       "      <td>Жидкость для электронных сигарет Nasty Salt CU...</td>\n",
       "      <td>Потребительская</td>\n",
       "      <td>Жидкости для ЭСДН</td>\n",
       "    </tr>\n",
       "  </tbody>\n",
       "</table>\n",
       "<p>886 rows × 3 columns</p>\n",
       "</div>"
      ],
      "text/plain": [
       "                                             brand_name     package_type  \\\n",
       "4     2 картриджа для электронных сигарет RELX, Gard...  Потребительская   \n",
       "23    Жидкость для электронных сигарет HUNGRY Grape ...  Потребительская   \n",
       "52    2 картриджа для электронных сигарет RELX, Gold...  Потребительская   \n",
       "91    Жидкость для электронных сигарет HUNGRY Tropic...  Потребительская   \n",
       "108   Жидкость для электронных сигарет The Scandalis...  Потребительская   \n",
       "...                                                 ...              ...   \n",
       "2153  Жидкость для электронных сигарет Jam Monster L...  Потребительская   \n",
       "2154  Жидкость для электронных сигарет Custard Monst...  Потребительская   \n",
       "2155  Жидкость для электронных сигарет Nasty Salt CU...  Потребительская   \n",
       "2156  Жидкость для электронных сигарет Nasty Salt Hi...  Потребительская   \n",
       "2157  Жидкость для электронных сигарет Nasty Salt CU...  Потребительская   \n",
       "\n",
       "           product_type  \n",
       "4     Жидкости для ЭСДН  \n",
       "23    Жидкости для ЭСДН  \n",
       "52    Жидкости для ЭСДН  \n",
       "91    Жидкости для ЭСДН  \n",
       "108   Жидкости для ЭСДН  \n",
       "...                 ...  \n",
       "2153  Жидкости для ЭСДН  \n",
       "2154  Жидкости для ЭСДН  \n",
       "2155  Жидкости для ЭСДН  \n",
       "2156  Жидкости для ЭСДН  \n",
       "2157  Жидкости для ЭСДН  \n",
       "\n",
       "[886 rows x 3 columns]"
      ]
     },
     "execution_count": 18,
     "metadata": {},
     "output_type": "execute_result"
    }
   ],
   "source": [
    "liquids"
   ]
  },
  {
   "cell_type": "code",
   "execution_count": 19,
   "id": "f3ce5a5e",
   "metadata": {},
   "outputs": [],
   "source": [
    "# Удаляем ненужные столбцы\n",
    "\n",
    "liquids = liquids.reindex(columns=['brand_name'])"
   ]
  },
  {
   "cell_type": "code",
   "execution_count": 20,
   "id": "92a0374c",
   "metadata": {},
   "outputs": [],
   "source": [
    "# Необходимо создать новый столбец с данными об объемах в мл продаваемых на рынке жидкостей\n",
    "# Известно, что данные об объеме продаваемой жидкости содержатся в конце наиенования бренда\n",
    "\n",
    "liquids['volume'] = liquids['brand_name'].apply(lambda x: x.split(' ')[-2:])"
   ]
  },
  {
   "cell_type": "code",
   "execution_count": 21,
   "id": "d3d653a1",
   "metadata": {},
   "outputs": [
    {
     "data": {
      "text/html": [
       "<div>\n",
       "<style scoped>\n",
       "    .dataframe tbody tr th:only-of-type {\n",
       "        vertical-align: middle;\n",
       "    }\n",
       "\n",
       "    .dataframe tbody tr th {\n",
       "        vertical-align: top;\n",
       "    }\n",
       "\n",
       "    .dataframe thead th {\n",
       "        text-align: right;\n",
       "    }\n",
       "</style>\n",
       "<table border=\"1\" class=\"dataframe\">\n",
       "  <thead>\n",
       "    <tr style=\"text-align: right;\">\n",
       "      <th></th>\n",
       "      <th>brand_name</th>\n",
       "      <th>volume</th>\n",
       "    </tr>\n",
       "  </thead>\n",
       "  <tbody>\n",
       "    <tr>\n",
       "      <th>4</th>\n",
       "      <td>2 картриджа для электронных сигарет RELX, Gard...</td>\n",
       "      <td>[3.8, ml]</td>\n",
       "    </tr>\n",
       "    <tr>\n",
       "      <th>23</th>\n",
       "      <td>Жидкость для электронных сигарет HUNGRY Grape ...</td>\n",
       "      <td>[120мл, 3мг]</td>\n",
       "    </tr>\n",
       "    <tr>\n",
       "      <th>52</th>\n",
       "      <td>2 картриджа для электронных сигарет RELX, Gold...</td>\n",
       "      <td>[3.8, ml]</td>\n",
       "    </tr>\n",
       "    <tr>\n",
       "      <th>91</th>\n",
       "      <td>Жидкость для электронных сигарет HUNGRY Tropic...</td>\n",
       "      <td>[120мл, 3мг]</td>\n",
       "    </tr>\n",
       "    <tr>\n",
       "      <th>108</th>\n",
       "      <td>Жидкость для электронных сигарет The Scandalis...</td>\n",
       "      <td>[58мл, 0мг]</td>\n",
       "    </tr>\n",
       "    <tr>\n",
       "      <th>...</th>\n",
       "      <td>...</td>\n",
       "      <td>...</td>\n",
       "    </tr>\n",
       "    <tr>\n",
       "      <th>2153</th>\n",
       "      <td>Жидкость для электронных сигарет Jam Monster L...</td>\n",
       "      <td>[100мл, 3мг]</td>\n",
       "    </tr>\n",
       "    <tr>\n",
       "      <th>2154</th>\n",
       "      <td>Жидкость для электронных сигарет Custard Monst...</td>\n",
       "      <td>[30мл, 20мг]</td>\n",
       "    </tr>\n",
       "    <tr>\n",
       "      <th>2155</th>\n",
       "      <td>Жидкость для электронных сигарет Nasty Salt CU...</td>\n",
       "      <td>[30мл, 20мг]</td>\n",
       "    </tr>\n",
       "    <tr>\n",
       "      <th>2156</th>\n",
       "      <td>Жидкость для электронных сигарет Nasty Salt Hi...</td>\n",
       "      <td>[30мл, 20мг]</td>\n",
       "    </tr>\n",
       "    <tr>\n",
       "      <th>2157</th>\n",
       "      <td>Жидкость для электронных сигарет Nasty Salt CU...</td>\n",
       "      <td>[30мл, 20мг]</td>\n",
       "    </tr>\n",
       "  </tbody>\n",
       "</table>\n",
       "<p>886 rows × 2 columns</p>\n",
       "</div>"
      ],
      "text/plain": [
       "                                             brand_name        volume\n",
       "4     2 картриджа для электронных сигарет RELX, Gard...     [3.8, ml]\n",
       "23    Жидкость для электронных сигарет HUNGRY Grape ...  [120мл, 3мг]\n",
       "52    2 картриджа для электронных сигарет RELX, Gold...     [3.8, ml]\n",
       "91    Жидкость для электронных сигарет HUNGRY Tropic...  [120мл, 3мг]\n",
       "108   Жидкость для электронных сигарет The Scandalis...   [58мл, 0мг]\n",
       "...                                                 ...           ...\n",
       "2153  Жидкость для электронных сигарет Jam Monster L...  [100мл, 3мг]\n",
       "2154  Жидкость для электронных сигарет Custard Monst...  [30мл, 20мг]\n",
       "2155  Жидкость для электронных сигарет Nasty Salt CU...  [30мл, 20мг]\n",
       "2156  Жидкость для электронных сигарет Nasty Salt Hi...  [30мл, 20мг]\n",
       "2157  Жидкость для электронных сигарет Nasty Salt CU...  [30мл, 20мг]\n",
       "\n",
       "[886 rows x 2 columns]"
      ]
     },
     "execution_count": 21,
     "metadata": {},
     "output_type": "execute_result"
    }
   ],
   "source": [
    "liquids"
   ]
  },
  {
   "cell_type": "code",
   "execution_count": 22,
   "id": "dafbdb7e",
   "metadata": {},
   "outputs": [],
   "source": [
    "# Данные об объеме записаны по-разному, в зависимости от того, картридж это или флакон\n",
    "# Необходимо оставить только числовое значение продаваемых объемов\n",
    "\n",
    "def extracting_volume(v):\n",
    "#     v = v.replace('[','').replace(']','')\n",
    "    if 'ml' in v:\n",
    "        return v[0] + 'мл'\n",
    "    if 'мл' in v[0]:\n",
    "        return v[0]\n",
    "    else:\n",
    "        return 'no info'\n",
    "        "
   ]
  },
  {
   "cell_type": "code",
   "execution_count": 23,
   "id": "10b84327",
   "metadata": {},
   "outputs": [],
   "source": [
    "liquids['volume'] = liquids.volume.apply(extracting_volume)"
   ]
  },
  {
   "cell_type": "code",
   "execution_count": 24,
   "id": "e324850e",
   "metadata": {},
   "outputs": [
    {
     "data": {
      "text/html": [
       "<div>\n",
       "<style scoped>\n",
       "    .dataframe tbody tr th:only-of-type {\n",
       "        vertical-align: middle;\n",
       "    }\n",
       "\n",
       "    .dataframe tbody tr th {\n",
       "        vertical-align: top;\n",
       "    }\n",
       "\n",
       "    .dataframe thead th {\n",
       "        text-align: right;\n",
       "    }\n",
       "</style>\n",
       "<table border=\"1\" class=\"dataframe\">\n",
       "  <thead>\n",
       "    <tr style=\"text-align: right;\">\n",
       "      <th></th>\n",
       "      <th>brand_name</th>\n",
       "      <th>volume</th>\n",
       "    </tr>\n",
       "  </thead>\n",
       "  <tbody>\n",
       "    <tr>\n",
       "      <th>4</th>\n",
       "      <td>2 картриджа для электронных сигарет RELX, Gard...</td>\n",
       "      <td>3.8мл</td>\n",
       "    </tr>\n",
       "    <tr>\n",
       "      <th>23</th>\n",
       "      <td>Жидкость для электронных сигарет HUNGRY Grape ...</td>\n",
       "      <td>120мл</td>\n",
       "    </tr>\n",
       "    <tr>\n",
       "      <th>52</th>\n",
       "      <td>2 картриджа для электронных сигарет RELX, Gold...</td>\n",
       "      <td>3.8мл</td>\n",
       "    </tr>\n",
       "    <tr>\n",
       "      <th>91</th>\n",
       "      <td>Жидкость для электронных сигарет HUNGRY Tropic...</td>\n",
       "      <td>120мл</td>\n",
       "    </tr>\n",
       "    <tr>\n",
       "      <th>108</th>\n",
       "      <td>Жидкость для электронных сигарет The Scandalis...</td>\n",
       "      <td>58мл</td>\n",
       "    </tr>\n",
       "    <tr>\n",
       "      <th>...</th>\n",
       "      <td>...</td>\n",
       "      <td>...</td>\n",
       "    </tr>\n",
       "    <tr>\n",
       "      <th>2153</th>\n",
       "      <td>Жидкость для электронных сигарет Jam Monster L...</td>\n",
       "      <td>100мл</td>\n",
       "    </tr>\n",
       "    <tr>\n",
       "      <th>2154</th>\n",
       "      <td>Жидкость для электронных сигарет Custard Monst...</td>\n",
       "      <td>30мл</td>\n",
       "    </tr>\n",
       "    <tr>\n",
       "      <th>2155</th>\n",
       "      <td>Жидкость для электронных сигарет Nasty Salt CU...</td>\n",
       "      <td>30мл</td>\n",
       "    </tr>\n",
       "    <tr>\n",
       "      <th>2156</th>\n",
       "      <td>Жидкость для электронных сигарет Nasty Salt Hi...</td>\n",
       "      <td>30мл</td>\n",
       "    </tr>\n",
       "    <tr>\n",
       "      <th>2157</th>\n",
       "      <td>Жидкость для электронных сигарет Nasty Salt CU...</td>\n",
       "      <td>30мл</td>\n",
       "    </tr>\n",
       "  </tbody>\n",
       "</table>\n",
       "<p>886 rows × 2 columns</p>\n",
       "</div>"
      ],
      "text/plain": [
       "                                             brand_name volume\n",
       "4     2 картриджа для электронных сигарет RELX, Gard...  3.8мл\n",
       "23    Жидкость для электронных сигарет HUNGRY Grape ...  120мл\n",
       "52    2 картриджа для электронных сигарет RELX, Gold...  3.8мл\n",
       "91    Жидкость для электронных сигарет HUNGRY Tropic...  120мл\n",
       "108   Жидкость для электронных сигарет The Scandalis...   58мл\n",
       "...                                                 ...    ...\n",
       "2153  Жидкость для электронных сигарет Jam Monster L...  100мл\n",
       "2154  Жидкость для электронных сигарет Custard Monst...   30мл\n",
       "2155  Жидкость для электронных сигарет Nasty Salt CU...   30мл\n",
       "2156  Жидкость для электронных сигарет Nasty Salt Hi...   30мл\n",
       "2157  Жидкость для электронных сигарет Nasty Salt CU...   30мл\n",
       "\n",
       "[886 rows x 2 columns]"
      ]
     },
     "execution_count": 24,
     "metadata": {},
     "output_type": "execute_result"
    }
   ],
   "source": [
    "liquids"
   ]
  },
  {
   "cell_type": "code",
   "execution_count": 25,
   "id": "21f22ba8",
   "metadata": {},
   "outputs": [
    {
     "data": {
      "text/plain": [
       "array(['3.8мл', '120мл', '58мл', '30мл', '100мл', 'no info', '1.9мл',\n",
       "       '60мл', '80мл', '50мл', 'мл', 'мл,'], dtype=object)"
      ]
     },
     "execution_count": 25,
     "metadata": {},
     "output_type": "execute_result"
    }
   ],
   "source": [
    "liquids.volume.unique()"
   ]
  },
  {
   "cell_type": "code",
   "execution_count": 26,
   "id": "dffe9df7",
   "metadata": {},
   "outputs": [],
   "source": [
    "# Убираем из данных строки с неизвестными данными по объему жидкостей\n",
    "\n",
    "liquids = liquids.query('(volume != \"мл\") & (volume != \"мл,\") &  (volume != \"no info\")')"
   ]
  },
  {
   "cell_type": "code",
   "execution_count": 27,
   "id": "aa671c1f",
   "metadata": {},
   "outputs": [
    {
     "data": {
      "text/plain": [
       "array(['3.8мл', '120мл', '58мл', '30мл', '100мл', '1.9мл', '60мл', '80мл',\n",
       "       '50мл'], dtype=object)"
      ]
     },
     "execution_count": 27,
     "metadata": {},
     "output_type": "execute_result"
    }
   ],
   "source": [
    "liquids.volume.unique()"
   ]
  },
  {
   "cell_type": "markdown",
   "id": "53d8cfd9",
   "metadata": {},
   "source": [
    "<hr>"
   ]
  },
  {
   "cell_type": "markdown",
   "id": "d2afe99e",
   "metadata": {},
   "source": [
    "### 3.2. Создаем столбец с данными об упаковках, в которых продаются жидкости"
   ]
  },
  {
   "cell_type": "code",
   "execution_count": 30,
   "id": "e1e83689",
   "metadata": {},
   "outputs": [],
   "source": [
    "# Известно, что жидкости продаются либо в картриджах, либо во флаконах.\n",
    "# С помощью функции будем вычислять значение типа упаковки\n",
    "\n",
    "def type_package(value):\n",
    "    if 'картридж' in value or 'Картридж' in value:\n",
    "        return 'Картриджи'\n",
    "    else:\n",
    "        return 'Флаконы'"
   ]
  },
  {
   "cell_type": "code",
   "execution_count": 31,
   "id": "3d910f9b",
   "metadata": {},
   "outputs": [
    {
     "name": "stderr",
     "output_type": "stream",
     "text": [
      "C:\\Users\\Kout2\\AppData\\Local\\Temp\\ipykernel_16248\\1648065515.py:1: SettingWithCopyWarning: \n",
      "A value is trying to be set on a copy of a slice from a DataFrame.\n",
      "Try using .loc[row_indexer,col_indexer] = value instead\n",
      "\n",
      "See the caveats in the documentation: https://pandas.pydata.org/pandas-docs/stable/user_guide/indexing.html#returning-a-view-versus-a-copy\n",
      "  liquids['type_package'] = liquids['brand_name'].apply(type_package)\n"
     ]
    }
   ],
   "source": [
    "liquids['type_package'] = liquids['brand_name'].apply(type_package)"
   ]
  },
  {
   "cell_type": "code",
   "execution_count": 34,
   "id": "efe0e61e",
   "metadata": {},
   "outputs": [
    {
     "data": {
      "text/html": [
       "<div>\n",
       "<style scoped>\n",
       "    .dataframe tbody tr th:only-of-type {\n",
       "        vertical-align: middle;\n",
       "    }\n",
       "\n",
       "    .dataframe tbody tr th {\n",
       "        vertical-align: top;\n",
       "    }\n",
       "\n",
       "    .dataframe thead th {\n",
       "        text-align: right;\n",
       "    }\n",
       "</style>\n",
       "<table border=\"1\" class=\"dataframe\">\n",
       "  <thead>\n",
       "    <tr style=\"text-align: right;\">\n",
       "      <th></th>\n",
       "      <th>brand_name</th>\n",
       "      <th>volume</th>\n",
       "      <th>type_package</th>\n",
       "    </tr>\n",
       "  </thead>\n",
       "  <tbody>\n",
       "    <tr>\n",
       "      <th>4</th>\n",
       "      <td>2 картриджа для электронных сигарет RELX, Gard...</td>\n",
       "      <td>3.8мл</td>\n",
       "      <td>Картриджи</td>\n",
       "    </tr>\n",
       "    <tr>\n",
       "      <th>23</th>\n",
       "      <td>Жидкость для электронных сигарет HUNGRY Grape ...</td>\n",
       "      <td>120мл</td>\n",
       "      <td>Флаконы</td>\n",
       "    </tr>\n",
       "    <tr>\n",
       "      <th>52</th>\n",
       "      <td>2 картриджа для электронных сигарет RELX, Gold...</td>\n",
       "      <td>3.8мл</td>\n",
       "      <td>Картриджи</td>\n",
       "    </tr>\n",
       "    <tr>\n",
       "      <th>91</th>\n",
       "      <td>Жидкость для электронных сигарет HUNGRY Tropic...</td>\n",
       "      <td>120мл</td>\n",
       "      <td>Флаконы</td>\n",
       "    </tr>\n",
       "    <tr>\n",
       "      <th>108</th>\n",
       "      <td>Жидкость для электронных сигарет The Scandalis...</td>\n",
       "      <td>58мл</td>\n",
       "      <td>Флаконы</td>\n",
       "    </tr>\n",
       "  </tbody>\n",
       "</table>\n",
       "</div>"
      ],
      "text/plain": [
       "                                            brand_name volume type_package\n",
       "4    2 картриджа для электронных сигарет RELX, Gard...  3.8мл    Картриджи\n",
       "23   Жидкость для электронных сигарет HUNGRY Grape ...  120мл      Флаконы\n",
       "52   2 картриджа для электронных сигарет RELX, Gold...  3.8мл    Картриджи\n",
       "91   Жидкость для электронных сигарет HUNGRY Tropic...  120мл      Флаконы\n",
       "108  Жидкость для электронных сигарет The Scandalis...   58мл      Флаконы"
      ]
     },
     "execution_count": 34,
     "metadata": {},
     "output_type": "execute_result"
    }
   ],
   "source": [
    "liquids.head()"
   ]
  },
  {
   "cell_type": "code",
   "execution_count": 33,
   "id": "26f461c5",
   "metadata": {},
   "outputs": [],
   "source": [
    "# Сохраняем данные\n",
    "\n",
    "liquids.to_excel('liquids_info.xlsx')"
   ]
  },
  {
   "cell_type": "code",
   "execution_count": null,
   "id": "0bd68eee",
   "metadata": {},
   "outputs": [],
   "source": []
  }
 ],
 "metadata": {
  "kernelspec": {
   "display_name": "Python 3 (ipykernel)",
   "language": "python",
   "name": "python3"
  },
  "language_info": {
   "codemirror_mode": {
    "name": "ipython",
    "version": 3
   },
   "file_extension": ".py",
   "mimetype": "text/x-python",
   "name": "python",
   "nbconvert_exporter": "python",
   "pygments_lexer": "ipython3",
   "version": "3.10.9"
  }
 },
 "nbformat": 4,
 "nbformat_minor": 5
}
